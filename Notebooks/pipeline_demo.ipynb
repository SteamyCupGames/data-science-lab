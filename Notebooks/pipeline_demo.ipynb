{
 "cells": [
  {
   "cell_type": "markdown",
   "id": "70038d30",
   "metadata": {},
   "source": [
    "# Pipeline de Análisis de Datos de Celulares\n",
    "Este notebook demuestra el flujo completo del pipeline de análisis de datos para el proyecto de celulares."
   ]
  },
  {
   "cell_type": "markdown",
   "id": "0379a526",
   "metadata": {},
   "source": [
    "## 1. Importación de Librerías"
   ]
  },
  {
   "cell_type": "code",
   "execution_count": 1,
   "id": "ab9da1ed",
   "metadata": {},
   "outputs": [],
   "source": [
    "import os\n",
    "import pandas as pd\n",
    "import matplotlib.pyplot as plt\n",
    "import re\n",
    "from pymongo import MongoClient\n",
    "import requests\n",
    "from bs4 import BeautifulSoup"
   ]
  },
  {
   "cell_type": "markdown",
   "id": "11a8c28d",
   "metadata": {},
   "source": [
    "## 2. Carga de Datos"
   ]
  },
  {
   "cell_type": "markdown",
   "id": "8c301aaf",
   "metadata": {},
   "source": [
    "### Funciones utilitarias"
   ]
  },
  {
   "cell_type": "code",
   "execution_count": 14,
   "id": "e57f0120",
   "metadata": {},
   "outputs": [],
   "source": [
    "def get_html(url):\n",
    "    headers = {'User-Agent': 'Mozilla/5.0'}\n",
    "    response = requests.get(url, headers=headers)\n",
    "    if response.status_code != 200:\n",
    "        print(f'Error accesing site: {response.status_code}')\n",
    "        return None\n",
    "    return response.content\n",
    "\n",
    "def extract_product_data(soup, product_class, name_class, price_class, offer_price_class, bold_price_class, brand_class):\n",
    "    products = soup.find_all('a', class_=product_class)\n",
    "    if not products:\n",
    "        print(\"No products were found\")\n",
    "        return []\n",
    "    product_data = []\n",
    "    for product in products:\n",
    "        try:\n",
    "            name_element = product.find('p', class_=name_class)\n",
    "            name = name_element.text.strip() if name_element else \"Unknown\"\n",
    "            brand_element = product.find('p', class_=brand_class)\n",
    "            brand = brand_element.text.strip() if brand_element else \"Unknown Brand\"\n",
    "            price_element = (product.find('span', class_=offer_price_class) or\n",
    "                             product.find('span', class_=price_class) or\n",
    "                             product.find('span', class_=bold_price_class))\n",
    "            if price_element:\n",
    "                price_text = price_element.text.strip()\n",
    "                price = float(price_text.replace('₡', '').replace(',', ''))\n",
    "            else:\n",
    "                price = 0.0  \n",
    "            product_data.append({\n",
    "                'product': name,\n",
    "                'price': price,\n",
    "                'brand': brand\n",
    "            })\n",
    "        except Exception as e:\n",
    "            print(f\"Error: {e}\")\n",
    "    return product_data\n",
    "\n",
    "def save_raw_data(product_data, file_name='UnimartCellphoneData.csv'):\n",
    "    if not product_data:\n",
    "        print(\"Could not extract products\")\n",
    "        return\n",
    "    df = pd.DataFrame(product_data)\n",
    "    raw_data_path = os.path.join(\"..\", \"Data\", \"raw\")\n",
    "    os.makedirs(raw_data_path, exist_ok=True)\n",
    "    file_path = os.path.join(raw_data_path, file_name)\n",
    "    df.to_csv(file_path, index=False)\n",
    "    print(f\"Data stored: {file_path}\")"
   ]
  },
  {
   "cell_type": "markdown",
   "id": "43cf9eaa",
   "metadata": {},
   "source": [
    "### Parámetros y ejecución"
   ]
  },
  {
   "cell_type": "code",
   "execution_count": 15,
   "id": "b23c812b",
   "metadata": {},
   "outputs": [
    {
     "name": "stdout",
     "output_type": "stream",
     "text": [
      "Data stored: ..\\Data\\raw\\UnimartCellphoneData.csv\n"
     ]
    }
   ],
   "source": [
    "url = 'https://www.unimart.com/collections/celulares'\n",
    "product_class = 'product-item'\n",
    "name_class = 'font-normal text-body leading-5 mb-1 order-4'\n",
    "price_class = 'money line-through text-unimart-gray-200 text-xs'\n",
    "offer_price_class = 'money text-base font-semibold mr-2 text-accent-red'\n",
    "bold_price_class = 'money text-black text-base font-semibold'\n",
    "brand_class = 'font-normal text-[10px] uppercase text-unimart-gray-200 mb-1 order-3'\n",
    "\n",
    "html_content = get_html(url)\n",
    "\n",
    "if html_content:\n",
    "    soup = BeautifulSoup(html_content, 'html.parser')\n",
    "    product_data = extract_product_data(soup, product_class, name_class, price_class, offer_price_class, bold_price_class, brand_class)\n",
    "    save_raw_data(product_data, 'UnimartCellphoneData.csv')"
   ]
  },
  {
   "cell_type": "markdown",
   "id": "7f806edf",
   "metadata": {},
   "source": [
    "## 3. Limpieza y Preprocesamiento de Datos"
   ]
  },
  {
   "cell_type": "markdown",
   "id": "993c21b2",
   "metadata": {},
   "source": [
    "### Funciones de limpieza"
   ]
  },
  {
   "cell_type": "code",
   "execution_count": 16,
   "id": "d3aa0557",
   "metadata": {},
   "outputs": [],
   "source": [
    "def clean_product_name(name):\n",
    "    name = re.sub(r'\\+.*', '', name).strip() \n",
    "    name = name.replace('Teléfono Celular', '').strip()\n",
    "    name = re.sub(r',.*', '', name).strip()\n",
    "    return name\n",
    "\n",
    "def extract_memory(name):\n",
    "    match = re.search(r'(\\d+GB|\\d+TB)', name)\n",
    "    return match.group(0) if match else 'Unknown'"
   ]
  },
  {
   "cell_type": "markdown",
   "id": "c8fd316f",
   "metadata": {},
   "source": [
    "### Limpieza principal y ejecución"
   ]
  },
  {
   "cell_type": "code",
   "execution_count": 17,
   "id": "03246c66",
   "metadata": {},
   "outputs": [
    {
     "name": "stdout",
     "output_type": "stream",
     "text": [
      "Clean Dataset stored: ../Data/clean/UnimartCellphoneData.csv\n"
     ]
    }
   ],
   "source": [
    "def clean_dataset(input_file='../Data/raw/UnimartCellphoneData.csv', output_file='../Data/clean/UnimartCellphoneData.csv'):\n",
    "    df = pd.read_csv(input_file)\n",
    "    df['memory'] = df['product'].apply(extract_memory)\n",
    "    df['product'] = df['product'].apply(clean_product_name)\n",
    "    df.dropna(inplace=True)\n",
    "    os.makedirs(os.path.dirname(output_file), exist_ok=True)\n",
    "    df.to_csv(output_file, index=False)\n",
    "    print(f\"Clean Dataset stored: {output_file}\")\n",
    "\n",
    "clean_dataset()"
   ]
  },
  {
   "cell_type": "markdown",
   "id": "fbbe127d",
   "metadata": {},
   "source": [
    "## 4. Análisis Exploratorio de Datos (EDA)"
   ]
  },
  {
   "cell_type": "markdown",
   "id": "a0683709",
   "metadata": {},
   "source": [
    "### Gráfico: Precio promedio por marca"
   ]
  },
  {
   "cell_type": "code",
   "execution_count": 18,
   "id": "30ff907c",
   "metadata": {},
   "outputs": [],
   "source": [
    "def plot_avg_price_per_brand(input_file='../Data/clean/UnimartCellphoneData.csv', output_file='../Data Analysis/Charts/average_cost_by_brand.png'):\n",
    "    df = pd.read_csv(input_file)\n",
    "    avg_price = df.groupby('brand')['price'].mean().sort_values()\n",
    "    \n",
    "    plt.figure(figsize=(10, 6))\n",
    "    avg_price.plot(kind='bar', color='skyblue', edgecolor='black')\n",
    "    plt.title('Average Cost per Brand')\n",
    "    plt.xlabel('Brand')\n",
    "    plt.ylabel('Average Cost (₡)')\n",
    "    plt.xticks(rotation=45)\n",
    "    \n",
    "    os.makedirs(os.path.dirname(output_file), exist_ok=True)\n",
    "    plt.savefig(output_file)\n",
    "    plt.close()\n",
    "    print(f'Plot saved inside folder:  {output_file}')"
   ]
  },
  {
   "cell_type": "markdown",
   "id": "07bfa9bf",
   "metadata": {},
   "source": [
    "###  Gráfico: Top 10 celulares más caros"
   ]
  },
  {
   "cell_type": "code",
   "execution_count": 19,
   "id": "3be0c984",
   "metadata": {},
   "outputs": [],
   "source": [
    "def plot_top_10_most_expensive_phones(input_file='../Data/clean/UnimartCellphoneData.csv', output_file='../Data Analysis/Charts/top_10_most_expensive_phones.png'):\n",
    "    df = pd.read_csv(input_file)\n",
    "    top_10 = df.nlargest(10, 'price')[['product', 'price']]\n",
    "    \n",
    "    plt.figure(figsize=(8, 6))\n",
    "    plt.barh(top_10['product'], top_10['price'], color='red')\n",
    "    plt.xlabel('Price (₡)')\n",
    "    plt.ylabel('Product')\n",
    "    plt.title('Top 10 Most Expensive Phones')\n",
    "    plt.gca().invert_yaxis()\n",
    "    \n",
    "    os.makedirs(os.path.dirname(output_file), exist_ok=True)\n",
    "    plt.savefig(output_file)\n",
    "    plt.close()\n",
    "    print(f'Plot saved inside folder:  {output_file}')"
   ]
  },
  {
   "cell_type": "markdown",
   "id": "935073dc",
   "metadata": {},
   "source": [
    "### Gráfico: Distribución de precios por marca"
   ]
  },
  {
   "cell_type": "code",
   "execution_count": 20,
   "id": "e93706d4",
   "metadata": {},
   "outputs": [],
   "source": [
    "def plot_price_distribution_per_brand(input_file='../Data/clean/UnimartCellphoneData.csv', output_file='../Data Analysis/Charts/price_distribution_by_brand.png'):\n",
    "    df = pd.read_csv(input_file)\n",
    "    df = df.sort_values(by=['brand', 'price'])\n",
    "    \n",
    "    plt.figure(figsize=(12, 6))\n",
    "    for brand, data in df.groupby('brand'):\n",
    "        plt.bar(data['product'], data['price'], label=brand)\n",
    "    \n",
    "    plt.xlabel('Model')\n",
    "    plt.ylabel('Price (₡)')\n",
    "    plt.title('Price Distribution per brand')\n",
    "    plt.xticks(rotation=90, fontsize=8)\n",
    "    plt.legend(title='Brand')\n",
    "    \n",
    "    os.makedirs(os.path.dirname(output_file), exist_ok=True)\n",
    "    plt.savefig(output_file, bbox_inches='tight')\n",
    "    plt.close()\n",
    "    print(f'Plot saved inside folder:  {output_file}')"
   ]
  },
  {
   "cell_type": "markdown",
   "id": "57a66eac",
   "metadata": {},
   "source": [
    "### Gráfico: Precio promedio por cantidad de memoria"
   ]
  },
  {
   "cell_type": "code",
   "execution_count": 21,
   "id": "ee150339",
   "metadata": {},
   "outputs": [],
   "source": [
    "def plot_avg_price_per_memory(input_file='../Data/clean/UnimartCellphoneData.csv', output_file='../Data Analysis/Charts/average_price_per_memory_amount.png'):\n",
    "    df = pd.read_csv(input_file)\n",
    "    df['memory'] = df['memory'].astype(str)\n",
    "    df = df[df['memory'] != 'Unknown']\n",
    "    df['memory'] = df['memory'].str.replace('GB', '').astype(int)\n",
    "    df = df[df['memory'] >= 64]\n",
    "    avg_price_memory = df.groupby('memory')['price'].mean().sort_values()\n",
    "    \n",
    "    plt.figure(figsize=(10, 6))\n",
    "    avg_price_memory.plot(kind='bar', color='purple', edgecolor='black')\n",
    "    plt.title('Average Cost per Memory Amount')\n",
    "    plt.xlabel('Memory Amount (GB)')\n",
    "    plt.ylabel('Average Cost (₡)')\n",
    "    plt.xticks(rotation=45)\n",
    "    \n",
    "    os.makedirs(os.path.dirname(output_file), exist_ok=True)\n",
    "    plt.savefig(output_file)\n",
    "    plt.close()\n",
    "    print(f'Plot saved inside folder:  {output_file}')"
   ]
  },
  {
   "cell_type": "markdown",
   "id": "4c9813b4",
   "metadata": {},
   "source": [
    "Ejecución de los gráficos"
   ]
  },
  {
   "cell_type": "code",
   "execution_count": 22,
   "id": "8fecd134",
   "metadata": {},
   "outputs": [
    {
     "name": "stdout",
     "output_type": "stream",
     "text": [
      "Plot saved inside folder:  ../Data Analysis/Charts/average_cost_by_brand.png\n",
      "Plot saved inside folder:  ../Data Analysis/Charts/top_10_most_expensive_phones.png\n",
      "Plot saved inside folder:  ../Data Analysis/Charts/price_distribution_by_brand.png\n",
      "Plot saved inside folder:  ../Data Analysis/Charts/average_price_per_memory_amount.png\n"
     ]
    }
   ],
   "source": [
    "plot_avg_price_per_brand()\n",
    "plot_top_10_most_expensive_phones()\n",
    "plot_price_distribution_per_brand()\n",
    "plot_avg_price_per_memory()"
   ]
  },
  {
   "cell_type": "markdown",
   "id": "5394b5d3",
   "metadata": {},
   "source": [
    "## 5. Respaldo en base de datos NoSQL (MongoDB)"
   ]
  },
  {
   "cell_type": "markdown",
   "id": "58bfd9cd",
   "metadata": {},
   "source": [
    "Conexión a MongoDB"
   ]
  },
  {
   "cell_type": "code",
   "execution_count": null,
   "id": "ccdb3fe4",
   "metadata": {},
   "outputs": [
    {
     "name": "stdout",
     "output_type": "stream",
     "text": [
      "Error de conexión: bad auth : Authentication failed., full error: {'ok': 0, 'errmsg': 'bad auth : Authentication failed.', 'code': 8000, 'codeName': 'AtlasError'}\n"
     ]
    }
   ],
   "source": [
    "# Check if MongoDB is up and running\n",
    "# Client info has to be changed for your own MongoDB client\n",
    "\n",
    "client = MongoClient(\"mongodb+srv://<user>:<password>@datalab.i76dg.mongodb.net/?retryWrites=true&w=majority&appName=DataLab\")\n",
    "try:\n",
    "    print(client.list_database_names())\n",
    "    print(\"Conexión exitosa.\")\n",
    "except Exception as e:\n",
    "    print(\"Error de conexión:\", e)\n",
    "\n",
    "db = client[\"DataLab\"]"
   ]
  },
  {
   "cell_type": "markdown",
   "id": "2acc66f6",
   "metadata": {},
   "source": [
    "Subir datos limpios a MongoDB"
   ]
  },
  {
   "cell_type": "code",
   "execution_count": null,
   "id": "c1578cb4",
   "metadata": {},
   "outputs": [],
   "source": [
    "collection = db[\"CleanData\"]\n",
    "\n",
    "df = pd.read_csv(\"data/clean/UnimartCellphoneData.csv\")\n",
    "data_dict = df.to_dict(orient=\"records\")\n",
    "collection.insert_many(data_dict)\n",
    "print(\"Clean Data has been uploaded to MongoDB succesfully.\")"
   ]
  },
  {
   "cell_type": "markdown",
   "id": "ba0b7981",
   "metadata": {},
   "source": [
    "Subir imágenes de visualizaciones a MongoDB"
   ]
  },
  {
   "cell_type": "code",
   "execution_count": null,
   "id": "12c4249a",
   "metadata": {},
   "outputs": [],
   "source": [
    "collection = db[\"Visualizations\"]\n",
    "image_folder = \"Data Analysis/Charts\"\n",
    "\n",
    "for image_name in os.listdir(image_folder):\n",
    "    with open(os.path.join(image_folder, image_name), \"rb\") as image_file:\n",
    "        image_data = image_file.read()\n",
    "        collection.insert_one({\"filename\": image_name, \"image\": image_data})\n",
    "print(\"Charts uploaded to MongoDB succesfully.\")"
   ]
  }
 ],
 "metadata": {
  "kernelspec": {
   "display_name": "Python 3",
   "language": "python",
   "name": "python3"
  },
  "language_info": {
   "codemirror_mode": {
    "name": "ipython",
    "version": 3
   },
   "file_extension": ".py",
   "mimetype": "text/x-python",
   "name": "python",
   "nbconvert_exporter": "python",
   "pygments_lexer": "ipython3",
   "version": "3.13.1"
  }
 },
 "nbformat": 4,
 "nbformat_minor": 5
}
